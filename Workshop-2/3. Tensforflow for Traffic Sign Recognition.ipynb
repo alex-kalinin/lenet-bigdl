{
 "cells": [
  {
   "cell_type": "code",
   "execution_count": 2,
   "metadata": {
    "collapsed": true
   },
   "outputs": [],
   "source": [
    "import random\n",
    "import numpy as np\n",
    "import matplotlib.pyplot as plt\n",
    "import tensorflow as tf\n",
    "%matplotlib inline"
   ]
  },
  {
   "cell_type": "code",
   "execution_count": 3,
   "metadata": {
    "collapsed": true
   },
   "outputs": [],
   "source": [
    "import pickle, gzip\n",
    "\n",
    "traffic_dir = 'traffic_signs_data'\n",
    "\n",
    "def load_traffic_signs():\n",
    "    \n",
    "    with gzip.open(traffic_dir + '/train2.p.gz', mode='rb') as f:\n",
    "        train = pickle.load(f)\n",
    "    with gzip.open(traffic_dir + '/test2.p.gz', mode='rb') as f:\n",
    "        test = pickle.load(f)\n",
    "\n",
    "    X_train, y_train = train['images'], train['labels']\n",
    "    X_test, y_test = test['images'], test['labels']\n",
    "    return X_train, y_train, X_test, y_test\n",
    "\n",
    "X_train, y_train, X_test, y_test = load_traffic_signs()"
   ]
  },
  {
   "cell_type": "code",
   "execution_count": 6,
   "metadata": {},
   "outputs": [
    {
     "data": {
      "text/plain": [
       "('Train:', 39209, 'Test:', 12630, 'Image shape:', (32, 32), 'Classes:', 43)"
      ]
     },
     "execution_count": 6,
     "metadata": {},
     "output_type": "execute_result"
    }
   ],
   "source": [
    "image_shape = X_train.shape[1:3]\n",
    "n_classes = np.unique(y_train).shape[0]\n",
    "'Train:', X_train.shape[0], 'Test:', X_test.shape[0], 'Image shape:', image_shape, 'Classes:', n_classes"
   ]
  },
  {
   "cell_type": "markdown",
   "metadata": {},
   "source": [
    "## Normalize Data"
   ]
  },
  {
   "cell_type": "code",
   "execution_count": 7,
   "metadata": {
    "collapsed": true
   },
   "outputs": [],
   "source": [
    "A, B = 0.1, 0.9\n",
    "\n",
    "def normalize(image_data, min_x=None, max_x=None):\n",
    "    min_x = np.min(image_data) if min_x is None else min_x\n",
    "    max_x = np.max(image_data) if max_x is None else max_x\n",
    "    result = A + (image_data - min_x) * (B - A) / (max_x - min_x)\n",
    "    return result, min_x, max_x"
   ]
  },
  {
   "cell_type": "code",
   "execution_count": 8,
   "metadata": {
    "collapsed": true
   },
   "outputs": [],
   "source": [
    "def restore_normal(image_data, min_x, max_x):\n",
    "    result = (image_data - A) * (max_x - min_x) / (B - A) + min_x\n",
    "    return result.astype(np.uint8)"
   ]
  },
  {
   "cell_type": "code",
   "execution_count": 9,
   "metadata": {
    "collapsed": true
   },
   "outputs": [],
   "source": [
    "X_train_norm, min_x, max_x = normalize(X_train)"
   ]
  },
  {
   "cell_type": "code",
   "execution_count": 10,
   "metadata": {
    "collapsed": true
   },
   "outputs": [],
   "source": [
    "X_test_norm, _, _ = normalize(X_test, min_x, max_x)"
   ]
  },
  {
   "cell_type": "markdown",
   "metadata": {},
   "source": [
    "## LeNet-5"
   ]
  },
  {
   "cell_type": "code",
   "execution_count": 11,
   "metadata": {
    "collapsed": true
   },
   "outputs": [],
   "source": [
    "from tensorflow.contrib.layers import flatten\n",
    "\n",
    "def LeNet(x):    \n",
    "    mu = 0.01\n",
    "    sigma = 0.1\n",
    "    \n",
    "    # Layer 1: Convolutional. Input = 32x32x3. Output = 28x28x6.\n",
    "    conv1_W = tf.Variable(tf.truncated_normal(shape=(5, 5, 3, 6), mean = mu, stddev = sigma), name=\"conv1_W\")\n",
    "    conv1_b = tf.Variable(tf.zeros(6), name=\"conv1_b\")\n",
    "    conv1 = tf.nn.conv2d(x, conv1_W, strides = [1, 1, 1, 1], padding='VALID') + conv1_b\n",
    "\n",
    "    conv1 = tf.nn.relu(conv1, name=\"conv1_relu\")\n",
    "\n",
    "    # Pooling. Input = 28x28x6. Output = 14x14x6.\n",
    "    conv1 = tf.nn.max_pool(conv1, ksize=[1, 2, 2, 1], strides=[1, 2, 2, 1], padding='VALID', name=\"conv1\")\n",
    "    LeNet.conv1 = conv1\n",
    "\n",
    "    # Layer 2: Convolutional. Output = 10x10x16.\n",
    "    conv2_W = tf.Variable(tf.truncated_normal(shape=(5, 5, 6, 16), mean=mu, stddev=sigma), name=\"conv2_W\")\n",
    "    conv2_b = tf.Variable(tf.zeros(16), name=\"conv2_b\")\n",
    "    conv2 = tf.nn.conv2d(conv1, conv2_W, strides=[1, 1, 1, 1], padding='VALID') + conv2_b\n",
    "    \n",
    "    conv2 = tf.nn.relu(conv2, name=\"conv2_relu\")\n",
    "\n",
    "    # TODO: Pooling. Input = 10x10x16. Output = 5x5x16.\n",
    "    conv2 = tf.nn.max_pool(conv2, ksize=[1, 2, 2, 1], strides=[1, 2, 2, 1], padding='VALID', name=\"conv2\")\n",
    "    LeNet.conv2 = conv2\n",
    "\n",
    "    # Flatten. Input = 5x5x16. Output = 400.\n",
    "    fc0 = flatten(conv2)\n",
    "    LeNet.fc0 = fc0\n",
    "    \n",
    "    # Layer 3: Fully Connected. Input = 400. Output = 120.\n",
    "    fc1_W = tf.Variable(tf.truncated_normal(shape=(400, 120), mean=mu, stddev=sigma), name=\"fc1_W\")\n",
    "    fc1_b = tf.Variable(tf.zeros(120), name=\"fc1_b\")\n",
    "    fc1 = tf.matmul(fc0, fc1_W) + fc1_b\n",
    "    \n",
    "    fc1 = tf.nn.relu(fc1, name=\"fc1\")\n",
    "    LeNet.fc1 = fc1\n",
    "\n",
    "    # TODO: Layer 4: Fully Connected. Input = 120. Output = 84.\n",
    "    fc2_W = tf.Variable(tf.truncated_normal(shape=(120, 84), mean=mu, stddev=sigma), name=\"fc2_W\")\n",
    "    fc2_b = tf.Variable(tf.zeros(84), name=\"fc2_b\")\n",
    "    fc2 = tf.matmul(fc1, fc2_W) + fc2_b\n",
    "    \n",
    "    fc2 = tf.nn.relu(fc2, name=\"fc2\")\n",
    "    LeNet.fc2 = fc2\n",
    "\n",
    "    # TODO: Layer 5: Fully Connected. Input = 84. Output = 43.\n",
    "    fc3_W = tf.Variable(tf.truncated_normal(shape=(84, 43), mean=mu, stddev=sigma), name=\"fc3_W\")\n",
    "    fc3_b = tf.Variable(tf.zeros(43), name=\"fc3_b\")\n",
    "    \n",
    "    logits = tf.add(tf.matmul(fc2, fc3_W), fc3_b, name=\"logits\")\n",
    "    LeNet.logits = logits\n",
    "    \n",
    "    return logits"
   ]
  },
  {
   "cell_type": "markdown",
   "metadata": {},
   "source": [
    "### Train Model"
   ]
  },
  {
   "cell_type": "code",
   "execution_count": 12,
   "metadata": {
    "collapsed": true
   },
   "outputs": [],
   "source": [
    "from sklearn.model_selection import train_test_split\n",
    "X_train_norm, X_valid_norm, y_train, y_valid = train_test_split(X_train_norm, y_train)"
   ]
  },
  {
   "cell_type": "code",
   "execution_count": 13,
   "metadata": {
    "collapsed": true
   },
   "outputs": [],
   "source": [
    "x = tf.placeholder(tf.float32, (None, 32, 32, 3), name='x')\n",
    "y = tf.placeholder(tf.int32, (None), name='y')\n",
    "one_hot_y = tf.one_hot(y, 43)"
   ]
  },
  {
   "cell_type": "code",
   "execution_count": 14,
   "metadata": {
    "collapsed": true
   },
   "outputs": [],
   "source": [
    "rate = 0.001\n",
    "\n",
    "logits = LeNet(x)\n",
    "prediction = tf.nn.softmax(logits, name=\"prediction\")\n",
    "cross_entropy = tf.nn.softmax_cross_entropy_with_logits(logits=logits, labels=one_hot_y, name=\"cross_entropy\")\n",
    "loss_operation = tf.reduce_mean(cross_entropy, name=\"loss_operation\")\n",
    "optimizer = tf.train.AdamOptimizer(learning_rate = rate, beta1=0.9, beta2=0.999, epsilon=1e-08, name=\"optimizer\")\n",
    "training_operation = optimizer.minimize(loss_operation, name=\"training_operation\")"
   ]
  },
  {
   "cell_type": "code",
   "execution_count": 15,
   "metadata": {
    "collapsed": true
   },
   "outputs": [],
   "source": [
    "correct_prediction = tf.equal(tf.argmax(logits, 1), tf.argmax(one_hot_y, 1), name=\"correct_prediction\")\n",
    "accuracy_operation = tf.reduce_mean(tf.cast(correct_prediction, tf.float32), name=\"accuracy_operation\")\n",
    "saver = tf.train.Saver()\n",
    "\n",
    "BATCH_SIZE = 64\n",
    "\n",
    "def evaluate(X_data, y_data):\n",
    "    num_examples = len(X_data)\n",
    "    total_accuracy = 0\n",
    "    sess = tf.get_default_session()\n",
    "    for offset in range(0, num_examples, BATCH_SIZE):\n",
    "        batch_x, batch_y = X_data[offset:offset+BATCH_SIZE], y_data[offset:offset+BATCH_SIZE]\n",
    "        accuracy = sess.run(accuracy_operation, feed_dict={x: batch_x, y: batch_y})\n",
    "        total_accuracy += (accuracy * len(batch_x))\n",
    "    return total_accuracy / num_examples\n",
    "\n",
    "def softmax(x):\n",
    "    return np.exp(x) / np.sum(np.exp(x))"
   ]
  },
  {
   "cell_type": "markdown",
   "metadata": {},
   "source": [
    "#### Capture convolution activation evolution"
   ]
  },
  {
   "cell_type": "code",
   "execution_count": 16,
   "metadata": {
    "collapsed": true
   },
   "outputs": [],
   "source": [
    "from moviepy.editor import VideoFileClip\n",
    "\n",
    "CAPTURE_ACTIVATION = LeNet.conv1\n",
    "TEST_IMAGE = X_train_norm[100]\n",
    "\n",
    "def activation_for_image(results, sess, image_input, tf_activation=CAPTURE_ACTIVATION):\n",
    "    activation = tf_activation.eval(session=sess, feed_dict={x : image_input})\n",
    "    feature_image_count = activation.shape[3]\n",
    "    for layer in range(feature_image_count):\n",
    "        act_image = activation[0,:,:, layer]\n",
    "        restored_image = restore_normal(act_image, min_x, max_x)\n",
    "        if len(results) < layer + 1:\n",
    "            results.append([])\n",
    "        results[layer].append(act_image)"
   ]
  },
  {
   "cell_type": "code",
   "execution_count": 18,
   "metadata": {
    "collapsed": true
   },
   "outputs": [],
   "source": [
    "from sklearn.utils import shuffle\n",
    "\n",
    "EPOCHS = 20\n",
    "\n",
    "def train(x_train, y_train, x_valid, y_valid):\n",
    "    num_examples = x_train.shape[0]\n",
    "    \n",
    "    activations = []\n",
    "    activations_per_epoch = 10\n",
    "    offset_per_activation = num_examples / activations_per_epoch\n",
    "    \n",
    "    with tf.Session() as sess:\n",
    "        sess.run(tf.global_variables_initializer())\n",
    "        print(\"Training...\\n\")\n",
    "        activations_for_epoch = [[]]\n",
    "        \n",
    "        activation_for_image(activations, sess, [TEST_IMAGE], CAPTURE_ACTIVATION)\n",
    "        \n",
    "        for i in range(EPOCHS):\n",
    "            x_train, y_train = shuffle(x_train, y_train)\n",
    "            for offset in range(0, num_examples, BATCH_SIZE):\n",
    "                end = offset + BATCH_SIZE\n",
    "                batch_x, batch_y = x_train[offset:end], y_train[offset:end]\n",
    "                sess.run(training_operation, feed_dict={x: batch_x, y: batch_y})\n",
    "                \n",
    "#                 print(offset, offset_per_activation, len(activations_for_epoch))\n",
    "                \n",
    "                if offset / offset_per_activation > len(activations_for_epoch[0]):\n",
    "                    activation_for_image(activations_for_epoch, sess, [TEST_IMAGE], CAPTURE_ACTIVATION)\n",
    "#                     print(len(activations_for_epoch[0]))\n",
    "\n",
    "            validation_accuracy = evaluate(x_valid, y_valid)\n",
    "            for src, dest in zip(activations_for_epoch, activations):\n",
    "                dest.extend(src)\n",
    "            activations_for_epoch = [[]]\n",
    "\n",
    "            print(\"EPOCH {} ...\".format(i + 1))\n",
    "            print(\"Validation Accuracy = {:.3f}\".format(validation_accuracy))\n",
    "            print()\n",
    "\n",
    "        saver.save(sess, './lenet')\n",
    "        print(\"Model saved\")\n",
    "        \n",
    "    return activations"
   ]
  },
  {
   "cell_type": "code",
   "execution_count": 19,
   "metadata": {
    "collapsed": true
   },
   "outputs": [],
   "source": [
    "def show_images(images):\n",
    "    plt.figure(1, figsize=(15,15))\n",
    "    cols = 8\n",
    "    rows = len(images) / cols + 1\n",
    "    \n",
    "    for index, img in enumerate(images):\n",
    "        subplot = index + 1\n",
    "        plt.subplot(rows, cols, subplot)\n",
    "        plt.title('Image ' + str(subplot))\n",
    "        plt.imshow(img, interpolation=\"nearest\", cmap=\"gray\")"
   ]
  },
  {
   "cell_type": "code",
   "execution_count": 20,
   "metadata": {},
   "outputs": [
    {
     "name": "stdout",
     "output_type": "stream",
     "text": [
      "Training...\n",
      "\n",
      "EPOCH 1 ...\n",
      "Validation Accuracy = 0.758\n",
      "\n",
      "EPOCH 2 ...\n",
      "Validation Accuracy = 0.876\n",
      "\n",
      "EPOCH 3 ...\n",
      "Validation Accuracy = 0.932\n",
      "\n",
      "EPOCH 4 ...\n",
      "Validation Accuracy = 0.940\n",
      "\n",
      "EPOCH 5 ...\n",
      "Validation Accuracy = 0.946\n",
      "\n",
      "EPOCH 6 ...\n",
      "Validation Accuracy = 0.964\n",
      "\n",
      "EPOCH 7 ...\n",
      "Validation Accuracy = 0.961\n",
      "\n",
      "EPOCH 8 ...\n",
      "Validation Accuracy = 0.969\n",
      "\n",
      "EPOCH 9 ...\n",
      "Validation Accuracy = 0.972\n",
      "\n",
      "EPOCH 10 ...\n",
      "Validation Accuracy = 0.982\n",
      "\n",
      "EPOCH 11 ...\n",
      "Validation Accuracy = 0.973\n",
      "\n",
      "EPOCH 12 ...\n",
      "Validation Accuracy = 0.978\n",
      "\n",
      "EPOCH 13 ...\n",
      "Validation Accuracy = 0.975\n",
      "\n",
      "EPOCH 14 ...\n",
      "Validation Accuracy = 0.983\n",
      "\n",
      "EPOCH 15 ...\n",
      "Validation Accuracy = 0.979\n",
      "\n",
      "EPOCH 16 ...\n",
      "Validation Accuracy = 0.980\n",
      "\n",
      "EPOCH 17 ...\n",
      "Validation Accuracy = 0.976\n",
      "\n",
      "EPOCH 18 ...\n",
      "Validation Accuracy = 0.977\n",
      "\n",
      "EPOCH 19 ...\n",
      "Validation Accuracy = 0.979\n",
      "\n",
      "EPOCH 20 ...\n",
      "Validation Accuracy = 0.976\n",
      "\n",
      "Model saved\n",
      "CPU times: user 20min 50s, sys: 3min 36s, total: 24min 26s\n",
      "Wall time: 8min 58s\n"
     ]
    }
   ],
   "source": [
    "%%time \n",
    "\n",
    "activations = train(X_train_norm, y_train, X_valid_norm, y_valid)"
   ]
  },
  {
   "cell_type": "code",
   "execution_count": 21,
   "metadata": {},
   "outputs": [
    {
     "data": {
      "text/plain": [
       "201"
      ]
     },
     "execution_count": 21,
     "metadata": {},
     "output_type": "execute_result"
    }
   ],
   "source": [
    "len(activations[1])"
   ]
  },
  {
   "cell_type": "code",
   "execution_count": null,
   "metadata": {},
   "outputs": [],
   "source": [
    "show_images(activations[0])"
   ]
  },
  {
   "cell_type": "markdown",
   "metadata": {},
   "source": [
    "## Test the model on the test dataset"
   ]
  },
  {
   "cell_type": "code",
   "execution_count": 23,
   "metadata": {},
   "outputs": [
    {
     "name": "stdout",
     "output_type": "stream",
     "text": [
      "INFO:tensorflow:Restoring parameters from ./lenet\n",
      "Test accuracy = 0.910\n"
     ]
    }
   ],
   "source": [
    "with tf.Session() as sess:\n",
    "    saver.restore(sess, tf.train.latest_checkpoint('.'))\n",
    "    res = evaluate(X_test_norm, y_test)\n",
    "    print(\"Test accuracy = {:.3f}\".format(res))"
   ]
  },
  {
   "cell_type": "markdown",
   "metadata": {},
   "source": [
    "## Try images from the Internet"
   ]
  },
  {
   "cell_type": "code",
   "execution_count": null,
   "metadata": {
    "collapsed": true
   },
   "outputs": [],
   "source": [
    "import matplotlib.image as mpimg\n",
    "import cv2\n",
    "\n",
    "def test_image_picture(file_name, sess):\n",
    "    img_orig = cv2.cvtColor(cv2.imread(file_name), cv2.COLOR_BGR2RGB)\n",
    "    img = cv2.resize(img_orig, (32, 32))\n",
    "    \n",
    "    pred = sess.run(prediction, feed_dict = { x : [img] })\n",
    "    index = np.argmax(pred)\n",
    "    \n",
    "    top_k_preds = sess.run(tf.nn.top_k(tf.constant(pred), k=3))\n",
    "    print('Prediction: ', class_names[index])\n",
    "    print('Top 3 probabilities:', top_k_preds)\n",
    "\n",
    "    plt.imshow(img_orig)"
   ]
  },
  {
   "cell_type": "markdown",
   "metadata": {},
   "source": [
    "The sign below is not in our dataset, so we don't count it toward the accuracy."
   ]
  },
  {
   "cell_type": "code",
   "execution_count": null,
   "metadata": {
    "collapsed": true
   },
   "outputs": [],
   "source": [
    "test_image_picture('???', s_loaded)"
   ]
  },
  {
   "cell_type": "markdown",
   "metadata": {},
   "source": [
    "### Visualize Filter State"
   ]
  },
  {
   "cell_type": "code",
   "execution_count": null,
   "metadata": {
    "collapsed": true
   },
   "outputs": [],
   "source": [
    "def output_features(image_input, tf_activation, activation_min=None, activation_max=None, plt_num=1):\n",
    "    activation = tf_activation.eval(session=sess, feed_dict={x : image_input})\n",
    "    feature_image_count = activation.shape[3]\n",
    "    plt.figure(plt_num, figsize=(15,15))\n",
    "\n",
    "    def show_one(image, subplot):\n",
    "        plt.subplot(6, 8, subplot) # sets the number of feature maps to show on each row and column\n",
    "        plt.title('FeatureMap ' + str(subplot)) # displays the feature map number\n",
    "        ri = restore_normal(image, min_x, max_x)\n",
    "        plt.imshow(ri, interpolation=\"nearest\", cmap=\"gray\")\n",
    "        \n",
    "    show_one(image_input[0], 1)\n",
    "    for layer in range(feature_image_count):\n",
    "        act_image = activation[0,:,:, layer]\n",
    "        show_one(act_image, layer + 2)\n",
    "    plt.show()"
   ]
  },
  {
   "cell_type": "code",
   "execution_count": null,
   "metadata": {
    "collapsed": true
   },
   "outputs": [],
   "source": [
    "normal_white = np.zeros(X_train[0].shape, dtype=np.uint8)\n",
    "normal_white.fill(255)\n",
    "WHITE, _, _ = normalize(normal_white, min_x, max_x)\n",
    "plt.imshow(restore_normal(WHITE, min_x, max_x))\n",
    "# plt.imshow(normal_white)\n",
    "# restore_normal(WHITE, min_x, max_x)"
   ]
  },
  {
   "cell_type": "code",
   "execution_count": null,
   "metadata": {},
   "outputs": [],
   "source": [
    "with tf.Session() as sess:\n",
    "    saver.restore(sess, tf.train.latest_checkpoint('.'))\n",
    "    output_features([X_train_norm[304]], LeNet.conv1) # , 0, 100)"
   ]
  }
 ],
 "metadata": {
  "anaconda-cloud": {},
  "kernelspec": {
   "display_name": "Python 3",
   "language": "python",
   "name": "python3"
  },
  "language_info": {
   "codemirror_mode": {
    "name": "ipython",
    "version": 3
   },
   "file_extension": ".py",
   "mimetype": "text/x-python",
   "name": "python",
   "nbconvert_exporter": "python",
   "pygments_lexer": "ipython3",
   "version": "3.5.3"
  }
 },
 "nbformat": 4,
 "nbformat_minor": 1
}
