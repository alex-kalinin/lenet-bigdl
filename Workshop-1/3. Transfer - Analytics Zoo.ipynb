{
 "cells": [
  {
   "cell_type": "code",
   "execution_count": 6,
   "metadata": {},
   "outputs": [],
   "source": [
    "import re\n",
    "from bigdl.util.common import * \n",
    "from bigdl.transform.vision.image import *\n",
    "from bigdl.transform.vision import image\n",
    "from pyspark.sql.functions import col, udf\n",
    "from pyspark.sql.types import DoubleType, StringType\n",
    "from bigdl.nn.layer import *\n",
    "from bigdl.nn.criterion import *\n",
    "from pyspark import SparkConf\n",
    "from pyspark.ml import Pipeline\n",
    "from pyspark.ml.evaluation import MulticlassClassificationEvaluator\n",
    "\n",
    "from zoo.common.nncontext import *\n",
    "from zoo.pipeline.nnframes.nn_classifier import *\n",
    "from zoo.pipeline.nnframes.nn_image_reader import *\n",
    "from zoo.pipeline.nnframes.nn_image_transformer import *"
   ]
  },
  {
   "cell_type": "code",
   "execution_count": 7,
   "metadata": {},
   "outputs": [
    {
     "data": {
      "text/html": [
       "\n",
       "        <div>\n",
       "            <p><b>SparkContext</b></p>\n",
       "\n",
       "            <p><a href=\"http://172.17.0.2:4042\">Spark UI</a></p>\n",
       "\n",
       "            <dl>\n",
       "              <dt>Version</dt>\n",
       "                <dd><code>v2.2.0</code></dd>\n",
       "              <dt>Master</dt>\n",
       "                <dd><code>local[2]</code></dd>\n",
       "              <dt>AppName</dt>\n",
       "                <dd><code>PySparkShell</code></dd>\n",
       "            </dl>\n",
       "        </div>\n",
       "        "
      ],
      "text/plain": [
       "<SparkContext master=local[2] appName=PySparkShell>"
      ]
     },
     "execution_count": 7,
     "metadata": {},
     "output_type": "execute_result"
    }
   ],
   "source": [
    "sparkConf = SparkConf().setAppName(\"ImageTransferLearningExample\")\n",
    "sc = get_nncontext(sparkConf)\n",
    "sc"
   ]
  },
  {
   "cell_type": "code",
   "execution_count": 8,
   "metadata": {},
   "outputs": [
    {
     "name": "stdout",
     "output_type": "stream",
     "text": [
      "creating: createNNModel\n"
     ]
    }
   ],
   "source": [
    "model_path = '../../../model/bigdl_inception-v1_imagenet_0.4.0.model' \n",
    "preTrainedNNModel = NNModel(Model.loadModel(model_path), [3,224,224]).setPredictionCol(\"embedding\")"
   ]
  },
  {
   "cell_type": "code",
   "execution_count": 9,
   "metadata": {},
   "outputs": [
    {
     "name": "stdout",
     "output_type": "stream",
     "text": [
      "('partition number: ', 12)\n",
      "('image number: ', 3215)\n"
     ]
    }
   ],
   "source": [
    "data_path = '../a0409a00-8-dataset_dp'\n",
    "image_path = '../a0409a00-8-dataset_dp/train_img/*'\n",
    "imageDF = NNImageReader.readImages(image_path, sc).repartition(12).cache()\n",
    "print (\"partition number: \", imageDF.rdd.getNumPartitions())\n",
    "print (\"image number: \", imageDF.count())"
   ]
  },
  {
   "cell_type": "code",
   "execution_count": 10,
   "metadata": {},
   "outputs": [],
   "source": [
    "# os.listdir(data_path + '/train_img')"
   ]
  },
  {
   "cell_type": "code",
   "execution_count": 11,
   "metadata": {},
   "outputs": [
    {
     "name": "stdout",
     "output_type": "stream",
     "text": [
      "+--------------------+\n",
      "|               image|\n",
      "+--------------------+\n",
      "|[file:/usr/src/ap...|\n",
      "|[file:/usr/src/ap...|\n",
      "|[file:/usr/src/ap...|\n",
      "|[file:/usr/src/ap...|\n",
      "|[file:/usr/src/ap...|\n",
      "|[file:/usr/src/ap...|\n",
      "|[file:/usr/src/ap...|\n",
      "|[file:/usr/src/ap...|\n",
      "|[file:/usr/src/ap...|\n",
      "|[file:/usr/src/ap...|\n",
      "|[file:/usr/src/ap...|\n",
      "|[file:/usr/src/ap...|\n",
      "|[file:/usr/src/ap...|\n",
      "|[file:/usr/src/ap...|\n",
      "|[file:/usr/src/ap...|\n",
      "|[file:/usr/src/ap...|\n",
      "|[file:/usr/src/ap...|\n",
      "|[file:/usr/src/ap...|\n",
      "|[file:/usr/src/ap...|\n",
      "|[file:/usr/src/ap...|\n",
      "+--------------------+\n",
      "only showing top 20 rows\n",
      "\n"
     ]
    }
   ],
   "source": [
    "imageDF.show()"
   ]
  },
  {
   "cell_type": "markdown",
   "metadata": {},
   "source": [
    "#### Create array of labels"
   ]
  },
  {
   "cell_type": "code",
   "execution_count": 18,
   "metadata": {},
   "outputs": [
    {
     "data": {
      "text/plain": [
       "{'beans': 22.0,\n",
       " 'cake': 24.0,\n",
       " 'candy': 21.0,\n",
       " 'cereal': 16.0,\n",
       " 'chips': 18.0,\n",
       " 'chocolate': 14.0,\n",
       " 'coffee': 10.0,\n",
       " 'corn': 13.0,\n",
       " 'fish': 2.0,\n",
       " 'flour': 12.0,\n",
       " 'honey': 3.0,\n",
       " 'jam': 8.0,\n",
       " 'juice': 4.0,\n",
       " 'milk': 5.0,\n",
       " 'nuts': 6.0,\n",
       " 'oil': 11.0,\n",
       " 'pasta': 17.0,\n",
       " 'rice': 9.0,\n",
       " 'soda': 23.0,\n",
       " 'spices': 25.0,\n",
       " 'sugar': 7.0,\n",
       " 'tea': 1.0,\n",
       " 'tomatosauce': 19.0,\n",
       " 'vinegar': 20.0,\n",
       " 'water': 15.0}"
      ]
     },
     "execution_count": 18,
     "metadata": {},
     "output_type": "execute_result"
    }
   ],
   "source": [
    "def load_image_classes(csv_file_name):\n",
    "    image_to_class = {}\n",
    "    with open(csv_file_name, 'rt') as f:\n",
    "        line = f.readline() # Skip header\n",
    "        for line in f:\n",
    "            line = line.strip('\\n')\n",
    "            name, cls = tuple(line.split(','))\n",
    "            image_to_class.setdefault(name, cls)\n",
    "    return image_to_class\n",
    "\n",
    "train_image_to_class = load_image_classes( data_path + '/train.csv')\n",
    "            \n",
    "vals = set(train_image_to_class.values())\n",
    "classes = {}\n",
    "for v in vals:\n",
    "    classes.setdefault(v, float(len(classes) + 1))\n",
    "    \n",
    "classes"
   ]
  },
  {
   "cell_type": "code",
   "execution_count": 19,
   "metadata": {},
   "outputs": [],
   "source": [
    "getName = udf(lambda row: row[0].split('/')[-1])\n",
    "getLabel = udf(lambda name: classes[train_image_to_class[name.split('.')[0]]], DoubleType())\n",
    "labelDF = imageDF \\\n",
    "    .withColumn(\"name\", getName(col(\"image\"))) \\\n",
    "    .withColumn(\"label\", getLabel(col('name')))"
   ]
  },
  {
   "cell_type": "code",
   "execution_count": 20,
   "metadata": {},
   "outputs": [
    {
     "name": "stdout",
     "output_type": "stream",
     "text": [
      "+--------------------+--------------+-----+\n",
      "|               image|          name|label|\n",
      "+--------------------+--------------+-----+\n",
      "|[file:/usr/src/ap...| train_87d.png|  1.0|\n",
      "|[file:/usr/src/ap...|train_251d.png|  1.0|\n",
      "|[file:/usr/src/ap...|train_742d.png|  1.0|\n",
      "|[file:/usr/src/ap...| train_62d.png|  7.0|\n",
      "|[file:/usr/src/ap...|train_109d.png| 10.0|\n",
      "|[file:/usr/src/ap...|train_349c.png| 16.0|\n",
      "|[file:/usr/src/ap...|train_719c.png| 16.0|\n",
      "|[file:/usr/src/ap...|train_369a.png| 16.0|\n",
      "|[file:/usr/src/ap...|train_168c.png|  2.0|\n",
      "|[file:/usr/src/ap...|train_251b.png|  8.0|\n",
      "|[file:/usr/src/ap...|train_386c.png|  4.0|\n",
      "|[file:/usr/src/ap...| train_57a.png|  6.0|\n",
      "|[file:/usr/src/ap...|train_700a.png| 13.0|\n",
      "|[file:/usr/src/ap...|train_430b.png| 23.0|\n",
      "|[file:/usr/src/ap...| train_41d.png| 25.0|\n",
      "|[file:/usr/src/ap...|train_429c.png| 14.0|\n",
      "|[file:/usr/src/ap...|train_263c.png|  2.0|\n",
      "|[file:/usr/src/ap...|train_277a.png| 11.0|\n",
      "|[file:/usr/src/ap...|train_549a.png| 14.0|\n",
      "|[file:/usr/src/ap...|train_619d.png| 16.0|\n",
      "+--------------------+--------------+-----+\n",
      "only showing top 20 rows\n",
      "\n"
     ]
    }
   ],
   "source": [
    "labelDF.show()"
   ]
  },
  {
   "cell_type": "code",
   "execution_count": 21,
   "metadata": {},
   "outputs": [],
   "source": [
    "(trainingDF, validationDF) = labelDF.randomSplit([0.9, 0.1])"
   ]
  },
  {
   "cell_type": "code",
   "execution_count": 22,
   "metadata": {},
   "outputs": [
    {
     "data": {
      "text/plain": [
       "2864"
      ]
     },
     "execution_count": 22,
     "metadata": {},
     "output_type": "execute_result"
    }
   ],
   "source": [
    "trainingDF.count()"
   ]
  },
  {
   "cell_type": "markdown",
   "metadata": {},
   "source": [
    "Compose a pipeline"
   ]
  },
  {
   "cell_type": "code",
   "execution_count": 23,
   "metadata": {},
   "outputs": [
    {
     "name": "stdout",
     "output_type": "stream",
     "text": [
      "creating: createResize\n",
      "creating: createCenterCrop\n",
      "creating: createChannelNormalize\n",
      "creating: createPipeline\n",
      "creating: createNNImageTransformer\n"
     ]
    }
   ],
   "source": [
    "transformer = NNImageTransformer(\n",
    "    image.Pipeline([Resize(256, 256), \n",
    "                    CenterCrop(224, 224), \n",
    "                    ChannelNormalize(123.0, 117.0, 104.0)])). \\\n",
    "        setInputCol(\"image\"). \\\n",
    "        setOutputCol(\"features\")"
   ]
  },
  {
   "cell_type": "code",
   "execution_count": 25,
   "metadata": {},
   "outputs": [],
   "source": [
    "features = transformer.transform(trainingDF)"
   ]
  },
  {
   "cell_type": "code",
   "execution_count": 31,
   "metadata": {},
   "outputs": [],
   "source": [
    "trainingEmbedDF = preTrainedNNModel.transform(features)"
   ]
  },
  {
   "cell_type": "code",
   "execution_count": 32,
   "metadata": {},
   "outputs": [
    {
     "name": "stdout",
     "output_type": "stream",
     "text": [
      "+--------------------+--------------+-----+--------------------+--------------------+\n",
      "|               image|          name|label|            features|           embedding|\n",
      "+--------------------+--------------+-----+--------------------+--------------------+\n",
      "|[file:/usr/src/ap...|train_102c.png| 17.0|[file:/usr/src/ap...|[1.77112980281890...|\n",
      "|[file:/usr/src/ap...|train_105c.png| 17.0|[file:/usr/src/ap...|[8.83482607605401...|\n",
      "|[file:/usr/src/ap...|train_108d.png| 10.0|[file:/usr/src/ap...|[5.05154321217560...|\n",
      "|[file:/usr/src/ap...|train_109d.png| 10.0|[file:/usr/src/ap...|[1.46384454637882...|\n",
      "|[file:/usr/src/ap...|train_110a.png| 19.0|[file:/usr/src/ap...|[1.02190462314410...|\n",
      "|[file:/usr/src/ap...|train_111d.png| 11.0|[file:/usr/src/ap...|[1.05521161253285...|\n",
      "|[file:/usr/src/ap...|train_117a.png| 10.0|[file:/usr/src/ap...|[2.48554511017573...|\n",
      "|[file:/usr/src/ap...|train_120d.png| 19.0|[file:/usr/src/ap...|[1.76699508358524...|\n",
      "|[file:/usr/src/ap...|train_124c.png|  3.0|[file:/usr/src/ap...|[2.02869014174211...|\n",
      "|[file:/usr/src/ap...|train_129c.png| 22.0|[file:/usr/src/ap...|[1.99975511350203...|\n",
      "|[file:/usr/src/ap...|train_134c.png|  2.0|[file:/usr/src/ap...|[1.35739146571722...|\n",
      "|[file:/usr/src/ap...|train_140d.png|  3.0|[file:/usr/src/ap...|[9.71571012087224...|\n",
      "|[file:/usr/src/ap...|train_142d.png|  4.0|[file:/usr/src/ap...|[2.45719966187607...|\n",
      "|[file:/usr/src/ap...|train_143d.png| 13.0|[file:/usr/src/ap...|[2.87158945866394...|\n",
      "|[file:/usr/src/ap...|train_144c.png|  4.0|[file:/usr/src/ap...|[8.52725747790827...|\n",
      "|[file:/usr/src/ap...|train_146d.png| 19.0|[file:/usr/src/ap...|[2.54217366091324...|\n",
      "|[file:/usr/src/ap...|train_156c.png| 16.0|[file:/usr/src/ap...|[3.86215870094019...|\n",
      "|[file:/usr/src/ap...|train_157d.png|  3.0|[file:/usr/src/ap...|[2.92350478048319...|\n",
      "|[file:/usr/src/ap...|train_158d.png| 25.0|[file:/usr/src/ap...|[5.87014301345334...|\n",
      "|[file:/usr/src/ap...|train_159a.png|  8.0|[file:/usr/src/ap...|[8.58269595482852...|\n",
      "+--------------------+--------------+-----+--------------------+--------------------+\n",
      "only showing top 20 rows\n",
      "\n"
     ]
    }
   ],
   "source": [
    "trainingEmbedDF.show()"
   ]
  },
  {
   "cell_type": "markdown",
   "metadata": {},
   "source": [
    "Load pretrained model:"
   ]
  },
  {
   "cell_type": "code",
   "execution_count": 55,
   "metadata": {},
   "outputs": [],
   "source": [
    "EPOCHS = 100\n",
    "LEARNING_RATE = 0.001\n",
    "BATCH_SIZE = 64"
   ]
  },
  {
   "cell_type": "markdown",
   "metadata": {},
   "source": [
    "Create Linear Classifier"
   ]
  },
  {
   "cell_type": "code",
   "execution_count": 56,
   "metadata": {},
   "outputs": [],
   "source": [
    "from bigdl.optim.optimizer import Optimizer, Adam, MaxEpoch, EveryEpoch, Top1Accuracy, \\\n",
    "    TrainSummary, ValidationSummary, SeveralIteration, SGD"
   ]
  },
  {
   "cell_type": "code",
   "execution_count": 57,
   "metadata": {},
   "outputs": [
    {
     "name": "stdout",
     "output_type": "stream",
     "text": [
      "creating: createSequential\n",
      "creating: createLinear\n",
      "creating: createLogSoftMax\n",
      "creating: createClassNLLCriterion\n",
      "creating: createNNClassifier\n",
      "creating: createDefault\n",
      "creating: createSGD\n"
     ]
    }
   ],
   "source": [
    "lrModel = Sequential().add(Linear(1000, len(classes))).add(LogSoftMax())\n",
    "\n",
    "classifier = NNClassifier(lrModel, ClassNLLCriterion(), [1000]) \\\n",
    "        .setOptimMethod(SGD(nesterov=True, momentum=0.9, dampening=0.0)) \\\n",
    "        .setLearningRate(LEARNING_RATE) \\\n",
    "        .setBatchSize(BATCH_SIZE) \\\n",
    "        .setMaxEpoch(EPOCHS) \\\n",
    "        .setFeaturesCol(\"embedding\")"
   ]
  },
  {
   "cell_type": "code",
   "execution_count": 49,
   "metadata": {},
   "outputs": [],
   "source": [
    "evaluator = MulticlassClassificationEvaluator(\n",
    "    labelCol=\"label\", \n",
    "    predictionCol=\"prediction\", \n",
    "    metricName=\"accuracy\")"
   ]
  },
  {
   "cell_type": "code",
   "execution_count": 50,
   "metadata": {},
   "outputs": [],
   "source": [
    "# pipeline = Pipeline(stages=[transformer, preTrainedNNModel, classifier])\n",
    "# pipeline = Pipeline(stages=[transformer, preTrainedNNModel, classifier])"
   ]
  },
  {
   "cell_type": "code",
   "execution_count": 51,
   "metadata": {},
   "outputs": [],
   "source": [
    "grocery_model = classifier.fit(trainingEmbedDF)"
   ]
  },
  {
   "cell_type": "code",
   "execution_count": 52,
   "metadata": {},
   "outputs": [],
   "source": [
    "# trainPredictDF = grocery_model.transform(trainingDF)\n",
    "# evaluator.evaluate(trainPredictDF)"
   ]
  },
  {
   "cell_type": "code",
   "execution_count": 53,
   "metadata": {},
   "outputs": [
    {
     "name": "stdout",
     "output_type": "stream",
     "text": [
      "+--------------------+--------------+-----+--------------------+--------------------+----------+\n",
      "|               image|          name|label|            features|           embedding|prediction|\n",
      "+--------------------+--------------+-----+--------------------+--------------------+----------+\n",
      "|[file:/usr/src/ap...|train_113b.png|  9.0|[file:/usr/src/ap...|[1.95233087652013...|      14.0|\n",
      "|[file:/usr/src/ap...|train_163b.png|  9.0|[file:/usr/src/ap...|[5.03243427374400...|      14.0|\n",
      "|[file:/usr/src/ap...|train_168a.png|  4.0|[file:/usr/src/ap...|[5.45330522072617...|      14.0|\n",
      "|[file:/usr/src/ap...|train_174a.png|  3.0|[file:/usr/src/ap...|[2.79749001492746...|      14.0|\n",
      "|[file:/usr/src/ap...|train_255c.png| 11.0|[file:/usr/src/ap...|[5.20109688295633...|      14.0|\n",
      "|[file:/usr/src/ap...|train_260c.png| 11.0|[file:/usr/src/ap...|[3.73601494629838...|      14.0|\n",
      "|[file:/usr/src/ap...|train_297c.png| 16.0|[file:/usr/src/ap...|[3.50564096152083...|      14.0|\n",
      "|[file:/usr/src/ap...|train_324a.png|  6.0|[file:/usr/src/ap...|[8.63523723637627...|      14.0|\n",
      "|[file:/usr/src/ap...|train_349c.png| 16.0|[file:/usr/src/ap...|[7.81013295636512...|      14.0|\n",
      "|[file:/usr/src/ap...|train_351a.png| 21.0|[file:/usr/src/ap...|[7.98962992121232...|      14.0|\n",
      "|[file:/usr/src/ap...|train_397b.png|  6.0|[file:/usr/src/ap...|[7.37810387363424...|      14.0|\n",
      "|[file:/usr/src/ap...|train_440c.png|  7.0|[file:/usr/src/ap...|[1.36396209882150...|      14.0|\n",
      "|[file:/usr/src/ap...| train_49d.png| 21.0|[file:/usr/src/ap...|[2.96536800306057...|      14.0|\n",
      "|[file:/usr/src/ap...|train_534d.png| 10.0|[file:/usr/src/ap...|[1.35303048409696...|      14.0|\n",
      "|[file:/usr/src/ap...|train_571b.png|  2.0|[file:/usr/src/ap...|[8.54835798236308...|      14.0|\n",
      "|[file:/usr/src/ap...|train_585c.png|  1.0|[file:/usr/src/ap...|[1.86420447789714...|      14.0|\n",
      "|[file:/usr/src/ap...|train_614c.png|  4.0|[file:/usr/src/ap...|[1.26451607229682...|      14.0|\n",
      "|[file:/usr/src/ap...|train_643a.png|  3.0|[file:/usr/src/ap...|[6.87978990754345...|      14.0|\n",
      "|[file:/usr/src/ap...|train_659d.png| 16.0|[file:/usr/src/ap...|[3.51318412867840...|      14.0|\n",
      "|[file:/usr/src/ap...|train_672c.png|  6.0|[file:/usr/src/ap...|[4.80975677419337...|      14.0|\n",
      "+--------------------+--------------+-----+--------------------+--------------------+----------+\n",
      "only showing top 20 rows\n",
      "\n"
     ]
    }
   ],
   "source": [
    "validationEmbedDF = preTrainedNNModel.transform(transformer.transform(validationDF))\n",
    "predictionDF = grocery_model.transform(validationEmbedDF).cache()\n",
    "predictionDF.show()"
   ]
  },
  {
   "cell_type": "code",
   "execution_count": 54,
   "metadata": {},
   "outputs": [
    {
     "data": {
      "text/plain": [
       "0.07122507122507123"
      ]
     },
     "execution_count": 54,
     "metadata": {},
     "output_type": "execute_result"
    }
   ],
   "source": [
    "evaluator.evaluate(predictionDF)"
   ]
  },
  {
   "cell_type": "code",
   "execution_count": null,
   "metadata": {},
   "outputs": [],
   "source": []
  }
 ],
 "metadata": {
  "kernelspec": {
   "display_name": "Python 2",
   "language": "python",
   "name": "python2"
  },
  "language_info": {
   "codemirror_mode": {
    "name": "ipython",
    "version": 2
   },
   "file_extension": ".py",
   "mimetype": "text/x-python",
   "name": "python",
   "nbconvert_exporter": "python",
   "pygments_lexer": "ipython2",
   "version": "2.7.14"
  }
 },
 "nbformat": 4,
 "nbformat_minor": 2
}
